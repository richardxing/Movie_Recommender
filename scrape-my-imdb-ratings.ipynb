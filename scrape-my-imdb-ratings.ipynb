{
 "cells": [
  {
   "cell_type": "code",
   "execution_count": null,
   "metadata": {},
   "outputs": [],
   "source": [
    "import requests\n",
    "import bs4\n",
    "import pandas as pd\n",
    "from warnings import warn\n",
    "from time import sleep\n",
    "from random import randint\n",
    "url_dic ={\\\n",
    "'url1':'https://www.imdb.com/user/**/**', \\\n",
    "'url2':'https://www.imdb.com/user/**/**',\\\n",
    "'url3':'https://www.imdb.com/user/**/**',\\\n",
    "'url4':'https://www.imdb.com/user/**/**',\\\n",
    "'url5':'https://www.imdb.com/user/**/**'\\\n",
    "}\n",
    "number_requests = 0\n",
    "titles = []\n",
    "years = []\n",
    "my_ratings = []\n",
    "for url in url_dic:\n",
    "    page = requests.get(url_dic[url])\n",
    "    \n",
    "    # Pause the loop\n",
    "    sleep(randint(8,15))\n",
    "    # Monitor the requests\n",
    "    number_requests += 1\n",
    "    \n",
    "    # Throw a warning for non-200 status codes\n",
    "    if page.status_code != 200:\n",
    "        warn('Request: {}; Status code: {}'.format(number_requests, page.status_code))\n",
    "    else:\n",
    "        print('request successful!')\n",
    "    # Break the loop if the number of requests is greater than expected\n",
    "    if number_requests > len(url_dic)*2:\n",
    "        warn('Number of requests was greater than expected.')  \n",
    "        break \n",
    "        \n",
    "    soup = bs4.BeautifulSoup(page.content, \"lxml\")\n",
    "    movies = soup.find_all('div', class_ = 'lister-item mode-detail')\n",
    "    for movie in movies:\n",
    "        title = movie.h3.a.get_text()\n",
    "        titles.append(title)\n",
    "        year = movie.h3.find('span', class_ = 'lister-item-year text-muted unbold').text\n",
    "        years.append(year)\n",
    "        my_rating = int(movie.find_all('span', class_=\"ipl-rating-star__rating\")[1].text)\n",
    "        my_ratings.append(my_rating)"
   ]
  },
  {
   "cell_type": "code",
   "execution_count": 8,
   "metadata": {},
   "outputs": [],
   "source": [
    "my_rating_df = pd.DataFrame({'movie': titles,\n",
    "                       'year': years,\n",
    "                       'my_rating': my_ratings,\n",
    "                            })"
   ]
  },
  {
   "cell_type": "code",
   "execution_count": null,
   "metadata": {},
   "outputs": [],
   "source": [
    "print(my_rating_df.info())\n",
    "my_rating_df"
   ]
  },
  {
   "cell_type": "code",
   "execution_count": 10,
   "metadata": {},
   "outputs": [],
   "source": [
    "pd.DataFrame.to_csv(my_rating_df,\"my_imdb_ratings.csv\")"
   ]
  },
  {
   "cell_type": "markdown",
   "metadata": {},
   "source": [
    "# Save a html page into a pickle file.\n",
    "import pickle\n",
    "\n",
    "pickle.dump( page, open( \"page1.p\", \"wb\" ) )\n"
   ]
  },
  {
   "cell_type": "markdown",
   "metadata": {},
   "source": [
    "# Load the html page back from the pickle file.\n",
    "import pickle\n",
    "same_page = pickle.load( open( \"page.p\", \"rb\" ) )\n",
    "\n"
   ]
  },
  {
   "cell_type": "code",
   "execution_count": null,
   "metadata": {},
   "outputs": [],
   "source": []
  }
 ],
 "metadata": {
  "kernelspec": {
   "display_name": "Python 3",
   "language": "python",
   "name": "python3"
  },
  "language_info": {
   "codemirror_mode": {
    "name": "ipython",
    "version": 3
   },
   "file_extension": ".py",
   "mimetype": "text/x-python",
   "name": "python",
   "nbconvert_exporter": "python",
   "pygments_lexer": "ipython3",
   "version": "3.5.4"
  }
 },
 "nbformat": 4,
 "nbformat_minor": 2
}
